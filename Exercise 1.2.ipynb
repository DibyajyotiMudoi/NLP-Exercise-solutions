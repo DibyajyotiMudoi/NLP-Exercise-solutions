{
 "cells": [
  {
   "cell_type": "code",
   "execution_count": 2,
   "id": "6618b3fd",
   "metadata": {},
   "outputs": [
    {
     "name": "stdout",
     "output_type": "stream",
     "text": [
      "Total seconds: 2562\n"
     ]
    }
   ],
   "source": [
    "#1. How many seconds are there in 42 minutes 42 seconds?\n",
    "total_seconds = 42*60+42\n",
    "print(\"Total seconds:\", total_seconds)"
   ]
  },
  {
   "cell_type": "code",
   "execution_count": 3,
   "id": "038769c9",
   "metadata": {},
   "outputs": [
    {
     "name": "stdout",
     "output_type": "stream",
     "text": [
      "Total miles: 6.211180124223602\n"
     ]
    }
   ],
   "source": [
    "#2. How many miles are there in 10 kilometers? Hint: there are 1.61 kilometers in a mile.\n",
    "total_miles = 10/1.61\n",
    "print(\"Total miles:\", total_miles)"
   ]
  },
  {
   "cell_type": "code",
   "execution_count": 5,
   "id": "a875b280",
   "metadata": {},
   "outputs": [
    {
     "name": "stdout",
     "output_type": "stream",
     "text": [
      "Average Pace: 6 minutes 52 seconds per mile\n",
      "Average Speed: 8.727653570337614 miles per hour\n"
     ]
    }
   ],
   "source": [
    "#3. If you run a 10 kilometer race in 42 minutes 42 seconds, what is your average pace (time per mile in minutes and seconds)? What is your average speed in miles per hour?\n",
    "total_seconds = 42 * 60 + 42\n",
    "total_miles = 10 / 1.61\n",
    "pace_in_seconds = total_seconds / total_miles\n",
    "average_pace_minutes = int(pace_in_seconds // 60)\n",
    "average_pace_seconds = int(pace_in_seconds % 60)\n",
    "\n",
    "print(f\"Average Pace: {average_pace_minutes} minutes {average_pace_seconds} seconds per mile\")\n",
    "\n",
    "# Convert pace to hours\n",
    "total_hours = total_seconds / 3600\n",
    "average_speed = total_miles / total_hours\n",
    "print(f\"Average Speed: {average_speed} miles per hour\")"
   ]
  },
  {
   "cell_type": "code",
   "execution_count": null,
   "id": "5ac149d5",
   "metadata": {},
   "outputs": [],
   "source": []
  }
 ],
 "metadata": {
  "kernelspec": {
   "display_name": "Python 3 (ipykernel)",
   "language": "python",
   "name": "python3"
  },
  "language_info": {
   "codemirror_mode": {
    "name": "ipython",
    "version": 3
   },
   "file_extension": ".py",
   "mimetype": "text/x-python",
   "name": "python",
   "nbconvert_exporter": "python",
   "pygments_lexer": "ipython3",
   "version": "3.9.13"
  }
 },
 "nbformat": 4,
 "nbformat_minor": 5
}
