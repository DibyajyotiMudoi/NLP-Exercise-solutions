{
 "cells": [
  {
   "cell_type": "code",
   "execution_count": 2,
   "id": "9b83fb34",
   "metadata": {},
   "outputs": [
    {
     "name": "stdout",
     "output_type": "stream",
     "text": [
      "Volume of a sphere is: 523.5987755982989\n"
     ]
    }
   ],
   "source": [
    "# 1. The volume of a sphere with radius r is 4/3 πr^3. What is the volume of a sphere with radius 5?\n",
    "import math\n",
    "radius = 5\n",
    "\n",
    "volume = (4/3)*math.pi*radius**3\n",
    "print(\"Volume of a sphere is:\", volume)"
   ]
  },
  {
   "cell_type": "code",
   "execution_count": 3,
   "id": "a61b4cf5",
   "metadata": {},
   "outputs": [
    {
     "name": "stdout",
     "output_type": "stream",
     "text": [
      "The total wholesale cost for 60 copies is: 945.4499999999999\n"
     ]
    }
   ],
   "source": [
    "#2. Suppose the cover price of a book is $24.95, but bookstores get a 40% discount. \n",
    "#Shipping costs $3 for the first copy and 75 cents for each additional copy.\n",
    "#What is the total wholesale cost for 60 copies?\n",
    "\n",
    "cover_price = 24.95\n",
    "discount = 0.4  # 40% discount\n",
    "num_books = 60\n",
    "\n",
    "wholesale_price = cover_price * (1 - discount)\n",
    "\n",
    "\n",
    "num_additional_copies = num_books - 1\n",
    "shipping_cost_additional = num_additional_copies * 0.75\n",
    "\n",
    "total_shipping = 3 + shipping_cost_additional\n",
    "\n",
    "# Calculate total wholesale cost\n",
    "total_cost = wholesale_price * num_books + total_shipping\n",
    "\n",
    "print(\"The total wholesale cost for 60 copies is:\", total_cost)\n"
   ]
  },
  {
   "cell_type": "code",
   "execution_count": 4,
   "id": "10fd091e",
   "metadata": {},
   "outputs": [
    {
     "name": "stdout",
     "output_type": "stream",
     "text": [
      "You will arrive home for breakfast at: 07:30:06\n"
     ]
    }
   ],
   "source": [
    "#3. If I leave my house at 6:52 am and run 1 mile at an easy pace (8:15 per mile), then 3 miles at tempo (7:12 per mile) and 1 mile at easy pace again, what time do I get home for breakfast?\n",
    "\n",
    "from datetime import datetime, timedelta\n",
    "\n",
    "easy_pace_minutes_per_mile = 8.25\n",
    "tempo_pace_minutes_per_mile = 7.2\n",
    "\n",
    "easy_distance = 1  # miles\n",
    "tempo_distance = 3  # miles\n",
    "\n",
    "total_running_time = (easy_distance * easy_pace_minutes_per_mile) + (tempo_distance * tempo_pace_minutes_per_mile) + (easy_distance * easy_pace_minutes_per_mile)\n",
    "\n",
    "hours = int(total_running_time // 60)\n",
    "minutes = int(total_running_time % 60)\n",
    "\n",
    "start_time = \"06:52:00\"\n",
    "\n",
    "start_time_obj = datetime.strptime(start_time, \"%H:%M:%S\")\n",
    "arrival_time_obj = start_time_obj + timedelta(minutes=total_running_time)\n",
    "\n",
    "arrival_time = arrival_time_obj.strftime(\"%H:%M:%S\")\n",
    "\n",
    "print(\"You will arrive home for breakfast at:\", arrival_time)"
   ]
  },
  {
   "cell_type": "code",
   "execution_count": null,
   "id": "9745011e",
   "metadata": {},
   "outputs": [],
   "source": []
  }
 ],
 "metadata": {
  "kernelspec": {
   "display_name": "Python 3 (ipykernel)",
   "language": "python",
   "name": "python3"
  },
  "language_info": {
   "codemirror_mode": {
    "name": "ipython",
    "version": 3
   },
   "file_extension": ".py",
   "mimetype": "text/x-python",
   "name": "python",
   "nbconvert_exporter": "python",
   "pygments_lexer": "ipython3",
   "version": "3.9.13"
  }
 },
 "nbformat": 4,
 "nbformat_minor": 5
}
