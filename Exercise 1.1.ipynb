{
 "cells": [
  {
   "cell_type": "code",
   "execution_count": 5,
   "id": "74a7420f",
   "metadata": {},
   "outputs": [
    {
     "ename": "SyntaxError",
     "evalue": "unexpected EOF while parsing (397585329.py, line 2)",
     "output_type": "error",
     "traceback": [
      "\u001b[1;36m  File \u001b[1;32m\"C:\\Users\\DIBYAJYOTI MUDOI\\AppData\\Local\\Temp\\ipykernel_18032\\397585329.py\"\u001b[1;36m, line \u001b[1;32m2\u001b[0m\n\u001b[1;33m    print(\"Hellow Everyone\"\u001b[0m\n\u001b[1;37m                           ^\u001b[0m\n\u001b[1;31mSyntaxError\u001b[0m\u001b[1;31m:\u001b[0m unexpected EOF while parsing\n"
     ]
    }
   ],
   "source": [
    "#1. In a print statement, what happens if you leave out one of the parentheses, or both?\n",
    "print(\"Hellow Everyone\""
   ]
  },
  {
   "cell_type": "code",
   "execution_count": 2,
   "id": "ddd07e86",
   "metadata": {},
   "outputs": [
    {
     "ename": "SyntaxError",
     "evalue": "invalid syntax (47014614.py, line 2)",
     "output_type": "error",
     "traceback": [
      "\u001b[1;36m  File \u001b[1;32m\"C:\\Users\\DIBYAJYOTI MUDOI\\AppData\\Local\\Temp\\ipykernel_18032\\47014614.py\"\u001b[1;36m, line \u001b[1;32m2\u001b[0m\n\u001b[1;33m    print(Hellow Everyone)\u001b[0m\n\u001b[1;37m                 ^\u001b[0m\n\u001b[1;31mSyntaxError\u001b[0m\u001b[1;31m:\u001b[0m invalid syntax\n"
     ]
    }
   ],
   "source": [
    "#2. If you are trying to print a string, what happens if you leave out one of the quotation marks,or both?\n",
    "print(Hellow Everyone)"
   ]
  },
  {
   "cell_type": "code",
   "execution_count": 3,
   "id": "d218ba3e",
   "metadata": {},
   "outputs": [
    {
     "name": "stdout",
     "output_type": "stream",
     "text": [
      "2\n",
      "4\n"
     ]
    }
   ],
   "source": [
    "#3. You can use a minus sign to make a negative number like -2. What happens if you put a plussign before a number? What about 2++2?\n",
    "print(+2)\n",
    "print(2++2)"
   ]
  },
  {
   "cell_type": "code",
   "execution_count": 6,
   "id": "dc6e7867",
   "metadata": {},
   "outputs": [
    {
     "ename": "SyntaxError",
     "evalue": "leading zeros in decimal integer literals are not permitted; use an 0o prefix for octal integers (1192291104.py, line 2)",
     "output_type": "error",
     "traceback": [
      "\u001b[1;36m  File \u001b[1;32m\"C:\\Users\\DIBYAJYOTI MUDOI\\AppData\\Local\\Temp\\ipykernel_18032\\1192291104.py\"\u001b[1;36m, line \u001b[1;32m2\u001b[0m\n\u001b[1;33m    print(09)\u001b[0m\n\u001b[1;37m           ^\u001b[0m\n\u001b[1;31mSyntaxError\u001b[0m\u001b[1;31m:\u001b[0m leading zeros in decimal integer literals are not permitted; use an 0o prefix for octal integers\n"
     ]
    }
   ],
   "source": [
    "#4. In math notation, leading zeros are ok, as in 09. What happens if you try this in Python? What about 011?\n",
    "print(09)"
   ]
  },
  {
   "cell_type": "code",
   "execution_count": 7,
   "id": "72a88afd",
   "metadata": {},
   "outputs": [
    {
     "ename": "SyntaxError",
     "evalue": "invalid syntax (4201588486.py, line 2)",
     "output_type": "error",
     "traceback": [
      "\u001b[1;36m  File \u001b[1;32m\"C:\\Users\\DIBYAJYOTI MUDOI\\AppData\\Local\\Temp\\ipykernel_18032\\4201588486.py\"\u001b[1;36m, line \u001b[1;32m2\u001b[0m\n\u001b[1;33m    print(2 3)\u001b[0m\n\u001b[1;37m            ^\u001b[0m\n\u001b[1;31mSyntaxError\u001b[0m\u001b[1;31m:\u001b[0m invalid syntax\n"
     ]
    }
   ],
   "source": [
    "#5. What happens if you have two values with no operator between them?\n",
    "print(2 3)"
   ]
  },
  {
   "cell_type": "code",
   "execution_count": null,
   "id": "c430e3c9",
   "metadata": {},
   "outputs": [],
   "source": []
  }
 ],
 "metadata": {
  "kernelspec": {
   "display_name": "Python 3 (ipykernel)",
   "language": "python",
   "name": "python3"
  },
  "language_info": {
   "codemirror_mode": {
    "name": "ipython",
    "version": 3
   },
   "file_extension": ".py",
   "mimetype": "text/x-python",
   "name": "python",
   "nbconvert_exporter": "python",
   "pygments_lexer": "ipython3",
   "version": "3.9.13"
  }
 },
 "nbformat": 4,
 "nbformat_minor": 5
}
